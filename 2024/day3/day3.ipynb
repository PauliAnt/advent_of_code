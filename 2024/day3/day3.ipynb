{
 "cells": [
  {
   "cell_type": "code",
   "execution_count": null,
   "metadata": {},
   "outputs": [],
   "source": [
    "with open('input.txt') as file:\n",
    "    data = file.read()"
   ]
  },
  {
   "cell_type": "code",
   "execution_count": null,
   "metadata": {},
   "outputs": [],
   "source": [
    "mul_list = data.split('mul(')\n",
    "\n",
    "s = 0\n",
    "\n",
    "for seq in mul_list:\n",
    "    if ',' in seq:\n",
    "        left, right = seq.split(',',1)\n",
    "    else:\n",
    "        continue\n",
    "\n",
    "    try:\n",
    "        num1 = int(left)\n",
    "    except ValueError:\n",
    "        continue\n",
    "\n",
    "    if ')' in right:\n",
    "        left, right = right.split(')',1)\n",
    "    else:\n",
    "        continue\n",
    "\n",
    "    try:\n",
    "        num2 = int(left)\n",
    "    except ValueError:\n",
    "        continue\n",
    "\n",
    "    s += num1 * num2\n",
    "\n",
    "\n",
    "s\n"
   ]
  },
  {
   "cell_type": "code",
   "execution_count": null,
   "metadata": {},
   "outputs": [],
   "source": [
    "mul_list = data.split('mul(')\n",
    "\n",
    "s = 0\n",
    "enabled = True\n",
    "for seq in mul_list:\n",
    "    is_valid = True\n",
    "    if ',' in seq:\n",
    "        left, right = seq.split(',',1)\n",
    "    else:\n",
    "        is_valid = False\n",
    "\n",
    "    try:\n",
    "        num1 = int(left)\n",
    "    except ValueError:\n",
    "        is_valid = False\n",
    "\n",
    "    if ')' in right:\n",
    "        left, right = right.split(')',1)\n",
    "    else:\n",
    "        is_valid = False\n",
    "\n",
    "    try:\n",
    "        num2 = int(left)\n",
    "    except ValueError:\n",
    "        is_valid = False\n",
    "\n",
    "\n",
    "    if is_valid and enabled:\n",
    "        s += num1 * num2\n",
    "\n",
    "    do_ind = seq.find('do()')\n",
    "    dont_ind = seq.find(\"don't()\")\n",
    "\n",
    "    if (do_ind + dont_ind != -2):\n",
    "        if do_ind > dont_ind:\n",
    "            enabled = True\n",
    "        elif dont_ind > do_ind:\n",
    "            enabled = False\n",
    "\n",
    "s"
   ]
  }
 ],
 "metadata": {
  "kernelspec": {
   "display_name": "aoc",
   "language": "python",
   "name": "python3"
  },
  "language_info": {
   "codemirror_mode": {
    "name": "ipython",
    "version": 3
   },
   "file_extension": ".py",
   "mimetype": "text/x-python",
   "name": "python",
   "nbconvert_exporter": "python",
   "pygments_lexer": "ipython3",
   "version": "3.13.0"
  }
 },
 "nbformat": 4,
 "nbformat_minor": 2
}
