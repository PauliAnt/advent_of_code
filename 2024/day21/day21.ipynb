{
 "cells": [
  {
   "cell_type": "code",
   "execution_count": 68,
   "metadata": {},
   "outputs": [],
   "source": [
    "with open('test_input.txt') as file:\n",
    "    data = file.read()\n",
    "\n",
    "data = data.split('\\n')\n",
    "data = ['A' + row for row in data]\n",
    "mapping = {'0':0,'1':1,'2':2,'3':3,'4':4,'5':5,'6':6,'7':7,'8':8,'9':9,'A':10}\n",
    "numbers = [int(row[1:-1]) for row in data]\n",
    "inputs = [[mapping[x] for x in row] for row in data]"
   ]
  },
  {
   "cell_type": "code",
   "execution_count": 69,
   "metadata": {},
   "outputs": [
    {
     "name": "stdout",
     "output_type": "stream",
     "text": [
      "29 68\n",
      "980 60\n",
      "179 68\n",
      "456 64\n",
      "379 68\n"
     ]
    },
    {
     "data": {
      "text/plain": [
       "127900"
      ]
     },
     "execution_count": 69,
     "metadata": {},
     "output_type": "execute_result"
    }
   ],
   "source": [
    "\n",
    "\n",
    "keypad = {7: (0, 0), 8: (0, 1),9: (0, 2),4: (1, 0),5: (1, 1),6: (1, 2),1: (2, 0),2: (2, 1),3: (2, 2),0: (3, 1),10: (3, 2)}\n",
    "directional_keypad = {0: (0,1), 1: (1,0), 2:(1,1), 3:(1,2), 4:(0,2)}\n",
    "def key_presses(prev_kp,next_kp):\n",
    "    # returns up, right left, down, right\n",
    "    return ([4] + max(prev_kp[0]-next_kp[0],0) * [0] + max(next_kp[1]-prev_kp[1],0) * [3]  + max(next_kp[0]-prev_kp[0],0) * [2] + max(prev_kp[1]-next_kp[1],0) * [1]  + [4]) \n",
    "\n",
    "example1 = 10,0,2,9,10\n",
    "example1 = 10,9,8,0,10\n",
    "\n",
    "\n",
    "complex_score = 0\n",
    "for input_kp,number in zip(inputs,numbers):\n",
    "    s = 0\n",
    "    for ii in range(len(input_kp)-1):\n",
    "        kps1 = key_presses(keypad[input_kp[ii]],keypad[input_kp[ii+1]])\n",
    "        # print(kps1,  'First keypad')\n",
    "        for jj in range(len(kps1)-1):\n",
    "            kps2 = key_presses(directional_keypad[kps1[jj]],directional_keypad[kps1[jj+1]])\n",
    "            # print(' '*5, kps2, 'Second keypad')\n",
    "            for kk in range(len(kps2)-1):\n",
    "                kps3 = key_presses(directional_keypad[kps2[kk]],directional_keypad[kps2[kk+1]])\n",
    "                s += len(kps3)-1\n",
    "                # print(' '*10,kps3)\n",
    "    complex_score += s*number\n",
    "    print(number,s)\n",
    "\n",
    "\n",
    "complex_score\n",
    "\n",
    "\n"
   ]
  }
 ],
 "metadata": {
  "kernelspec": {
   "display_name": "aoc",
   "language": "python",
   "name": "python3"
  },
  "language_info": {
   "codemirror_mode": {
    "name": "ipython",
    "version": 3
   },
   "file_extension": ".py",
   "mimetype": "text/x-python",
   "name": "python",
   "nbconvert_exporter": "python",
   "pygments_lexer": "ipython3",
   "version": "3.13.0"
  }
 },
 "nbformat": 4,
 "nbformat_minor": 2
}
