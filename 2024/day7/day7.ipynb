{
 "cells": [
  {
   "cell_type": "code",
   "execution_count": null,
   "metadata": {},
   "outputs": [],
   "source": [
    "with open('input.txt') as file:\n",
    "    data = file.read()\n",
    "    \n",
    "data = data.split('\\n')"
   ]
  },
  {
   "cell_type": "code",
   "execution_count": null,
   "metadata": {},
   "outputs": [],
   "source": [
    "# Recursive gäng, only 30 rows of code\n",
    "def verify_result(result,numbers, use_concat = False):\n",
    "    # Function starts form the end of the list and check whether inverse operator can be applied to the remaining result. \n",
    "    # Then recursively goes to the next. Very mindfull, very demure\n",
    "\n",
    "    if result == numbers[-1] and len(numbers) == 1:\n",
    "        return True\n",
    "    elif len(numbers) < 2:\n",
    "        return False\n",
    "    \n",
    "    # For efficiency more rare operators are checked first and addition last.\n",
    "\n",
    "    # Check divisibily by the next number and apply inverse mult\n",
    "    if result % numbers[-1] == 0:\n",
    "        new_result = result // numbers[-1]\n",
    "        if verify_result(new_result,numbers[:-1], use_concat = use_concat):\n",
    "            return True # stop when correct answer is found\n",
    "\n",
    "    # The concatination operator can be broken down to (result - x) / 10^(len(str(x)) with given evaluation order. \n",
    "    # Check whether inverse concat can be applied.\n",
    "    exponent = 10**(len(str(numbers[-1])))\n",
    "    if (result-numbers[-1]) % exponent == 0 and use_concat:\n",
    "        new_result = (result-numbers[-1]) // exponent\n",
    "        if verify_result(new_result, numbers[:-1], use_concat = use_concat):\n",
    "            return True # stop when correct answer is found\n",
    "\n",
    "    # Addition is always available. For efficiency we can skip negative results\n",
    "    new_result = result - numbers[-1]\n",
    "    if new_result > 0:\n",
    "        if verify_result(new_result, numbers[:-1], use_concat = use_concat):\n",
    "            return True # stop when correct answer is found\n",
    "\n",
    "    return False\n",
    "\n",
    "\n",
    "s_silver, s_gold = 0, 0\n",
    "for line in data:\n",
    "    result, numbers = line.split(': ')\n",
    "    result = int(result)\n",
    "    numbers = [int(number) for number in numbers.split(' ')]\n",
    "    \n",
    "    if verify_result(result, numbers, use_concat = True):\n",
    "        s_gold += result\n",
    "        \n",
    "    if verify_result(result, numbers):\n",
    "        s_silver += result\n",
    "\n",
    "\n",
    "s_silver, s_gold"
   ]
  }
 ],
 "metadata": {
  "kernelspec": {
   "display_name": "aoc",
   "language": "python",
   "name": "python3"
  },
  "language_info": {
   "codemirror_mode": {
    "name": "ipython",
    "version": 3
   },
   "file_extension": ".py",
   "mimetype": "text/x-python",
   "name": "python",
   "nbconvert_exporter": "python",
   "pygments_lexer": "ipython3",
   "version": "3.13.0"
  }
 },
 "nbformat": 4,
 "nbformat_minor": 2
}
