{
 "cells": [
  {
   "cell_type": "code",
   "execution_count": null,
   "metadata": {},
   "outputs": [],
   "source": [
    "with open('input.txt') as file:\n",
    "    data = file.read()\n",
    "    \n",
    "lines = data.split('\\n')\n",
    "lines"
   ]
  },
  {
   "cell_type": "code",
   "execution_count": null,
   "metadata": {},
   "outputs": [],
   "source": [
    "# I was drunk while doing this. I cant even remember how I managed to solve this\n",
    "\n",
    "shape = (len(lines),len(lines[0]))\n",
    "\n",
    "antennas = {}\n",
    "for ii,line in enumerate(lines):\n",
    "    for jj,char in enumerate(line):\n",
    "        if char != '.':\n",
    "            if char in antennas.keys():\n",
    "                antennas[char].append((ii,jj))\n",
    "            else:\n",
    "                antennas[char] = [(ii,jj)]\n",
    "\n",
    "locs = []\n",
    "for key in antennas:\n",
    "    for base_antenna in antennas[key]:\n",
    "        for interfer_antenna in antennas[key]: # Three for loops, hell yea\n",
    "\n",
    "            if base_antenna == interfer_antenna:\n",
    "                continue\n",
    "            new_loc_x = interfer_antenna[0] - (base_antenna[0] - interfer_antenna[0])\n",
    "            if new_loc_x >= shape[1] or new_loc_x < 0:\n",
    "                continue\n",
    "            new_loc_y = interfer_antenna[1] - (base_antenna[1] - interfer_antenna[1])\n",
    "            if new_loc_y >= shape[0] or new_loc_y < 0:\n",
    "                continue\n",
    "            \n",
    "            locs.append((new_loc_x,new_loc_y))\n",
    "\n",
    "\n",
    "len(set(locs))"
   ]
  },
  {
   "cell_type": "code",
   "execution_count": null,
   "metadata": {},
   "outputs": [],
   "source": [
    "import numpy as np\n",
    "import seaborn as sns\n",
    "\n",
    "\n",
    "shape = (len(lines),len(lines[0]))\n",
    "antennas = {}\n",
    "for ii,line in enumerate(lines):\n",
    "    for jj,char in enumerate(line):\n",
    "        if char != '.':\n",
    "            if char in antennas.keys():\n",
    "                antennas[char].append((ii,jj))\n",
    "            else:\n",
    "                antennas[char] = [(ii,jj)]\n",
    "\n",
    "locs = []\n",
    "for key in antennas:\n",
    "    for base_antenna in antennas[key]:\n",
    "        for interfer_antenna in antennas[key]:\n",
    "            locs.append(interfer_antenna)\n",
    "            diff_x = base_antenna[0] - interfer_antenna[0]\n",
    "            diff_y = base_antenna[1] - interfer_antenna[1]\n",
    "            mult = 1\n",
    "            while True:\n",
    "\n",
    "                if base_antenna == interfer_antenna:\n",
    "                    break\n",
    "                new_loc_x = interfer_antenna[0] - diff_x * mult\n",
    "                if new_loc_x >= shape[1] or new_loc_x < 0:\n",
    "                    break\n",
    "                new_loc_y = interfer_antenna[1] - diff_y * mult\n",
    "                if new_loc_y >= shape[0] or new_loc_y < 0:\n",
    "                    break\n",
    "                locs.append((new_loc_x,new_loc_y))\n",
    "                mult += 1\n",
    "                debug[new_loc_x,new_loc_y] = 1\n",
    "            \n",
    "            \n",
    "\n",
    "len(set(locs))\n"
   ]
  }
 ],
 "metadata": {
  "kernelspec": {
   "display_name": "ADAML",
   "language": "python",
   "name": "python3"
  },
  "language_info": {
   "codemirror_mode": {
    "name": "ipython",
    "version": 3
   },
   "file_extension": ".py",
   "mimetype": "text/x-python",
   "name": "python",
   "nbconvert_exporter": "python",
   "pygments_lexer": "ipython3",
   "version": "3.12.5"
  }
 },
 "nbformat": 4,
 "nbformat_minor": 2
}
