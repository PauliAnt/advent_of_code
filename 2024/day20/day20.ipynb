{
 "cells": [
  {
   "cell_type": "code",
   "execution_count": 29,
   "metadata": {},
   "outputs": [],
   "source": [
    "with open('input.txt') as file:\n",
    "    data = file.read()\n",
    "\n",
    "# Data parse\n",
    "\n",
    "data_grid = data.split('\\n')\n",
    "grid_shape = len(data_grid),len(data_grid[0])\n",
    "\n",
    "grid = [[0 for ii in range(grid_shape[1])] for jj in range(grid_shape[0])]\n",
    "for ii in range(len(data_grid)):\n",
    "    for jj in range(len(data_grid[0])):\n",
    "        if data_grid[ii][jj] == 'S':\n",
    "            start_pos = (ii,jj)\n",
    "        elif data_grid[ii][jj] == 'E':\n",
    "            target = (ii,jj)\n",
    "        elif data_grid[ii][jj] == '#':\n",
    "            grid[ii][jj] = 1"
   ]
  },
  {
   "cell_type": "code",
   "execution_count": null,
   "metadata": {},
   "outputs": [],
   "source": [
    "# Forward pass throught track 1.7 sec runtime\n",
    "track = [start_pos]\n",
    "pos = start_pos\n",
    "directions = [(1,0),(-1,0),(0,1),(0,-1)]\n",
    "\n",
    "while pos != target:\n",
    "    for direction in directions:\n",
    "        next_pos = (pos[0]+direction[0],pos[1]+direction[1])\n",
    "        if grid[next_pos[0]][next_pos[1]] == 0 and next_pos not in track:\n",
    "            track.append(next_pos)\n",
    "            pos = next_pos\n",
    "            break\n",
    "\n"
   ]
  },
  {
   "cell_type": "code",
   "execution_count": null,
   "metadata": {},
   "outputs": [],
   "source": [
    "# Analysing the skips 2.8 sec runtime. The runtime is independent of skip_count\n",
    "from collections import Counter, deque\n",
    "import time\n",
    "\n",
    "def city_block(pos1,pos2):\n",
    "    return abs(pos1[0]-pos2[0]) + abs(pos1[1]-pos2[1])\n",
    "\n",
    "skips = Counter()\n",
    "skip_count = 20 # Change to 2 for silver\n",
    "\n",
    "track = deque(track)\n",
    "while len(track) > 1:\n",
    "    # Pop first element out of the list. This is efficient since we are not calculating distances to previous tracks.\n",
    "    pos = track.popleft() # deque.popleft() is O(1) vs list.pop O(n)\n",
    "    jj = 0\n",
    "    while jj < len(track):\n",
    "        next_pos = track[jj]\n",
    "        dist = city_block(pos,next_pos)\n",
    "        if dist <= skip_count:\n",
    "            skips[jj+1-dist] += 1\n",
    "            jj += 1\n",
    "        else:\n",
    "            # If cityblock distance is greater than skip count we can move atleast the difference forward\n",
    "            jj += dist - skip_count # This reduced the run time by factor 100\n",
    "        \n",
    "    # break\n",
    "sum([skips[key] if key >= 100 else 0 for key in skips])\n",
    "# 1021490\n",
    "\n",
    "\n"
   ]
  }
 ],
 "metadata": {
  "kernelspec": {
   "display_name": "aoc",
   "language": "python",
   "name": "python3"
  },
  "language_info": {
   "codemirror_mode": {
    "name": "ipython",
    "version": 3
   },
   "file_extension": ".py",
   "mimetype": "text/x-python",
   "name": "python",
   "nbconvert_exporter": "python",
   "pygments_lexer": "ipython3",
   "version": "3.13.0"
  }
 },
 "nbformat": 4,
 "nbformat_minor": 2
}
