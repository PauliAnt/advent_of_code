{
 "cells": [
  {
   "cell_type": "code",
   "execution_count": 31,
   "metadata": {},
   "outputs": [],
   "source": [
    "with open('input.txt') as file:\n",
    "    data = file.read()\n",
    "\n",
    "data = data.split('\\n\\n')\n",
    "\n",
    "first_grid = data[0].split('\\n')\n",
    "grid_shape = len(first_grid),len(first_grid[0])\n",
    "\n",
    "\n",
    "keys = []\n",
    "locks = []\n",
    "\n",
    "for grid in data:\n",
    "    if grid[0] == '#':\n",
    "        grid = grid.split('\\n')\n",
    "        pattern = [grid_shape[0] for ii in range(grid_shape[1])]\n",
    "        for row in range(grid_shape[0]):\n",
    "            for col in range(grid_shape[1]):\n",
    "                if grid[row][col] == '#':\n",
    "                    pattern[col] = grid_shape[1] - row\n",
    "        locks.append(pattern)\n",
    "\n",
    "    if grid[0] == '.':\n",
    "        grid = grid.split('\\n')\n",
    "        pattern = [0 for ii in range(grid_shape[1])]\n",
    "        for row in range(1,grid_shape[0]+1):\n",
    "            for col in range(grid_shape[1]):\n",
    "                if grid[-row][col] == '#':\n",
    "                    pattern[col] = row-1\n",
    "\n",
    "        keys.append(pattern)\n",
    "\n",
    "\n"
   ]
  },
  {
   "cell_type": "code",
   "execution_count": 33,
   "metadata": {},
   "outputs": [
    {
     "data": {
      "text/plain": [
       "3287"
      ]
     },
     "execution_count": 33,
     "metadata": {},
     "output_type": "execute_result"
    }
   ],
   "source": [
    "s = 0\n",
    "for lock in locks:\n",
    "    for key in keys:\n",
    "        is_valid = True\n",
    "        for ii in range(grid_shape[1]):\n",
    "            if key[ii] > lock[ii]:\n",
    "                is_valid = False\n",
    "                break\n",
    "        if is_valid:\n",
    "            s += 1\n",
    "        \n",
    "s"
   ]
  }
 ],
 "metadata": {
  "kernelspec": {
   "display_name": "ADAML",
   "language": "python",
   "name": "python3"
  },
  "language_info": {
   "codemirror_mode": {
    "name": "ipython",
    "version": 3
   },
   "file_extension": ".py",
   "mimetype": "text/x-python",
   "name": "python",
   "nbconvert_exporter": "python",
   "pygments_lexer": "ipython3",
   "version": "3.12.5"
  }
 },
 "nbformat": 4,
 "nbformat_minor": 2
}
