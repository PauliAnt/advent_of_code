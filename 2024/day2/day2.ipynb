{
 "cells": [
  {
   "cell_type": "code",
   "execution_count": null,
   "metadata": {},
   "outputs": [],
   "source": [
    "with open('input.txt') as file:\n",
    "    lines = file.readlines()"
   ]
  },
  {
   "cell_type": "code",
   "execution_count": null,
   "metadata": {},
   "outputs": [],
   "source": [
    "s = 0\n",
    "for line in lines:\n",
    "    \n",
    "    levels = line[:-1].split(' ')\n",
    "    levels = [int(level) for level in levels]\n",
    "\n",
    "    level_difs = [abs(levels[ii+1] - levels[ii]) for ii in range(len(levels)-1)]\n",
    "    is_increasing = [(levels[ii+1] - levels[ii]) > 0 for ii in range(len(levels)-1)]\n",
    "\n",
    "\n",
    "    if max(level_difs) > 3 or min(level_difs) == 0:\n",
    "        continue\n",
    "\n",
    "    if not (is_increasing.count(True) in [0, len(is_increasing)]):\n",
    "        continue\n",
    "    \n",
    "    s += 1\n",
    "\n",
    "s\n"
   ]
  },
  {
   "cell_type": "code",
   "execution_count": null,
   "metadata": {},
   "outputs": [],
   "source": [
    "s = 0\n",
    "for line in lines:\n",
    "    \n",
    "    levels = line[:-1].split(' ')\n",
    "    levels = [int(level) for level in levels]\n",
    "\n",
    "    iterations = [levels]\n",
    "\n",
    "    for ii in range(len(levels)):\n",
    "        levels_temp = levels.copy()\n",
    "        levels_temp.pop(ii)\n",
    "        iterations += [levels_temp]\n",
    "\n",
    "    for levels_iter in iterations:\n",
    "        \n",
    "        level_difs = [abs(levels_iter[ii+1] - levels_iter[ii]) for ii in range(len(levels_iter)-1)]\n",
    "        is_increasing = [(levels_iter[ii+1] - levels_iter[ii]) > 0 for ii in range(len(levels_iter)-1)]\n",
    "\n",
    "\n",
    "        if max(level_difs) > 3 or min(level_difs) == 0:\n",
    "            continue\n",
    "\n",
    "        if not (is_increasing.count(True) in [0, len(is_increasing)]):\n",
    "            continue\n",
    "    \n",
    "        s += 1\n",
    "        break\n",
    "\n",
    "s\n"
   ]
  }
 ],
 "metadata": {
  "kernelspec": {
   "display_name": "aoc",
   "language": "python",
   "name": "python3"
  },
  "language_info": {
   "codemirror_mode": {
    "name": "ipython",
    "version": 3
   },
   "file_extension": ".py",
   "mimetype": "text/x-python",
   "name": "python",
   "nbconvert_exporter": "python",
   "pygments_lexer": "ipython3",
   "version": "3.13.0"
  }
 },
 "nbformat": 4,
 "nbformat_minor": 2
}
