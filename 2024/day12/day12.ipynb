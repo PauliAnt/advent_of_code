{
 "cells": [
  {
   "cell_type": "code",
   "execution_count": 106,
   "metadata": {},
   "outputs": [],
   "source": [
    "with open('test_input.txt') as file:\n",
    "    data = file.read()\n",
    "\n",
    "data = data.split('\\n')\n",
    "data_shape = (len(data),len(data[0]))\n",
    "# data = [[int(num) for num in row] for row in data]\n",
    "fences_shape = (data_shape[0] + 1, data_shape[1] + 1)\n",
    "\n"
   ]
  },
  {
   "cell_type": "code",
   "execution_count": 133,
   "metadata": {},
   "outputs": [
    {
     "name": "stdout",
     "output_type": "stream",
     "text": [
      "10 {(0, 1), (0, 2), (0, 3), (0, 0)} A\n",
      "(0, 1) [(0, 0), (0, 1), (0, 2), (0, 3), (1, 0), (1, 1), (1, 2), (1, 3), (2, 0), (2, 1), (2, 2), (2, 3), (3, 0), (3, 1), (3, 2), (3, 3)]\n",
      "(0, 2) [(0, 0), (0, 2), (0, 3), (1, 0), (1, 1), (1, 2), (1, 3), (2, 0), (2, 1), (2, 2), (2, 3), (3, 0), (3, 1), (3, 2), (3, 3)]\n",
      "(0, 3) [(0, 0), (0, 3), (1, 0), (1, 1), (1, 2), (1, 3), (2, 0), (2, 1), (2, 2), (2, 3), (3, 0), (3, 1), (3, 2), (3, 3)]\n",
      "(0, 0) [(0, 0), (1, 0), (1, 1), (1, 2), (1, 3), (2, 0), (2, 1), (2, 2), (2, 3), (3, 0), (3, 1), (3, 2), (3, 3)]\n",
      "10 {(1, 0), (1, 1), (2, 0), (2, 1)} B\n",
      "(1, 0) [(1, 0), (1, 1), (1, 2), (1, 3), (2, 0), (2, 1), (2, 2), (2, 3), (3, 0), (3, 1), (3, 2), (3, 3)]\n",
      "(1, 1) [(1, 1), (1, 2), (1, 3), (2, 0), (2, 1), (2, 2), (2, 3), (3, 0), (3, 1), (3, 2), (3, 3)]\n",
      "(2, 0) [(1, 2), (1, 3), (2, 0), (2, 1), (2, 2), (2, 3), (3, 0), (3, 1), (3, 2), (3, 3)]\n",
      "(2, 1) [(1, 2), (1, 3), (2, 1), (2, 2), (2, 3), (3, 0), (3, 1), (3, 2), (3, 3)]\n",
      "10 {(2, 3), (1, 2), (3, 3), (2, 2)} C\n",
      "(2, 3) [(1, 2), (1, 3), (2, 2), (2, 3), (3, 0), (3, 1), (3, 2), (3, 3)]\n",
      "(1, 2) [(1, 2), (1, 3), (2, 2), (3, 0), (3, 1), (3, 2), (3, 3)]\n",
      "(3, 3) [(1, 3), (2, 2), (3, 0), (3, 1), (3, 2), (3, 3)]\n",
      "(2, 2) [(1, 3), (2, 2), (3, 0), (3, 1), (3, 2)]\n",
      "4 {(1, 3)} D\n",
      "(1, 3) [(1, 3), (3, 0), (3, 1), (3, 2)]\n",
      "8 {(3, 1), (3, 2), (3, 0)} E\n",
      "(3, 1) [(3, 0), (3, 1), (3, 2)]\n",
      "(3, 2) [(3, 0), (3, 2)]\n",
      "(3, 0) [(3, 0)]\n"
     ]
    },
    {
     "data": {
      "text/plain": [
       "148"
      ]
     },
     "execution_count": 133,
     "metadata": {},
     "output_type": "execute_result"
    }
   ],
   "source": [
    "fences_shape = (data_shape[0] + 1, data_shape[1] + 1)\n",
    "\n",
    "# top bot left right\n",
    "fences = [[[0] * 4 for ii in range(data_shape[0])] for jj in range(data_shape[1])]\n",
    "undiscovered = []\n",
    "\n",
    "for jj in range(data_shape[0]):\n",
    "    fences[0][jj][0] = 1\n",
    "for jj in range(data_shape[0]):\n",
    "    fences[data_shape[0] - 1][jj][1] = 1\n",
    "for ii in range(data_shape[0]):\n",
    "    fences[ii][0][2] = 1\n",
    "for ii in range(data_shape[0]):\n",
    "    fences[ii][data_shape[1] - 1][3] = 1\n",
    "\n",
    "for ii in range(data_shape[0]):\n",
    "    for jj in range(1,data_shape[1]):\n",
    "        if data[ii][jj-1] != data[ii][jj]:\n",
    "            fences[ii][jj-1][3] = 1\n",
    "            fences[ii][jj][2] = 1\n",
    "\n",
    "for ii in range(1,data_shape[0]):\n",
    "    for jj in range(data_shape[1]):\n",
    "        if data[ii-1][jj] != data[ii][jj]:\n",
    "            fences[ii-1][jj][1] = 1\n",
    "            fences[ii][jj][0] = 1\n",
    "\n",
    "\n",
    "\n",
    "\n",
    "def calc_area(ii,jj):\n",
    "    perimeter = sum(fences[ii][jj])\n",
    "    garder_tiles = [(ii,jj)]\n",
    "\n",
    "    if fences[ii][jj][3] != 1:\n",
    "        perimeter_temp, garder_tiles_temp = calc_area(ii, jj + 1)\n",
    "        perimeter += perimeter_temp\n",
    "        garder_tiles.extend(garder_tiles_temp)\n",
    "\n",
    "    if fences[ii][jj][1] != 1:\n",
    "        perimeter_temp, garder_tiles_temp = calc_area(ii + 1, jj)\n",
    "        perimeter += perimeter_temp\n",
    "        garder_tiles.extend(garder_tiles_temp)\n",
    "\n",
    "    return perimeter, garder_tiles\n",
    "\n",
    "\n",
    "\n",
    "s = 0\n",
    "\n",
    "for ii in range(data_shape[0]):\n",
    "    for jj in range(data_shape[1]):\n",
    "        undiscovered.append((ii,jj))\n",
    "\n",
    "ii, jj = 0, 0\n",
    "while len(undiscovered) != 0:\n",
    "\n",
    "    perimeter, garder_tiles = calc_area(ii,jj)\n",
    "\n",
    "    garder_tiles = set(garder_tiles) # fix\n",
    "    print(perimeter, garder_tiles, data[ii][jj])\n",
    "    s += perimeter * len(garder_tiles)\n",
    "    for tile in garder_tiles:\n",
    "        print(tile,undiscovered)\n",
    "        undiscovered.remove(tile)\n",
    "    \n",
    "    \n",
    "    if len(undiscovered) == 0:\n",
    "        break\n",
    "    ii,jj = undiscovered[0]\n",
    "\n",
    "\n",
    "\n",
    "\n",
    "s\n"
   ]
  }
 ],
 "metadata": {
  "kernelspec": {
   "display_name": "aoc",
   "language": "python",
   "name": "python3"
  },
  "language_info": {
   "codemirror_mode": {
    "name": "ipython",
    "version": 3
   },
   "file_extension": ".py",
   "mimetype": "text/x-python",
   "name": "python",
   "nbconvert_exporter": "python",
   "pygments_lexer": "ipython3",
   "version": "3.13.0"
  }
 },
 "nbformat": 4,
 "nbformat_minor": 2
}
