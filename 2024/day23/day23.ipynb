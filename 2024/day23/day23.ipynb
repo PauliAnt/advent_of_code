{
 "cells": [
  {
   "cell_type": "code",
   "execution_count": 1,
   "metadata": {},
   "outputs": [],
   "source": [
    "with open('input.txt') as file:\n",
    "    data = file.read()\n",
    "\n",
    "data = data.split('\\n')\n"
   ]
  },
  {
   "cell_type": "code",
   "execution_count": null,
   "metadata": {},
   "outputs": [],
   "source": [
    "from itertools import combinations\n",
    "\n",
    "# Get nodes into dictionary\n",
    "connection_matrix = []\n",
    "running_id = 0\n",
    "nodes = {}\n",
    "for row in data:\n",
    "    row_nodes = row.split('-')\n",
    "    for node in row_nodes:\n",
    "        if node not in nodes:\n",
    "            nodes[node] = running_id\n",
    "            running_id += 1\n",
    "\n",
    "# Connection matrix between nodes\n",
    "connection_matrix = [[0 for ii in range(running_id)] for jj in range(running_id)]\n",
    "for row in data:\n",
    "    row_nodes = row.split('-')\n",
    "    row_nodes_ids = sorted([nodes[node] for node in row_nodes])\n",
    "    connection_matrix[row_nodes_ids[0]][row_nodes_ids[1]] = 1\n",
    "\n",
    "# Get all 3 computer subsets\n",
    "subsets = set()\n",
    "for ii in range(running_id):\n",
    "    row = connection_matrix[ii]\n",
    "    connected_ids = [jj for jj in range(ii,running_id) if row[jj]==1]\n",
    "    combos = list(combinations(connected_ids,2))\n",
    "    for combo in combos:\n",
    "        if connection_matrix[combo[0]][combo[1]] == 1:\n",
    "            subsets.add((ii,*combo))\n",
    "\n",
    "    \n",
    "valid_node_ids = [nodes[node] for node in nodes if node[0] == 't']\n",
    "valid_subsets = set()\n",
    "\n",
    "for subset in subsets:\n",
    "    if any([node in valid_node_ids for node in subset]):\n",
    "        valid_subsets.add(subset)\n",
    "\n",
    "\n",
    "len(valid_subsets)"
   ]
  },
  {
   "cell_type": "code",
   "execution_count": null,
   "metadata": {},
   "outputs": [],
   "source": [
    "# Gold, recursion gäng\n",
    "def get_max_subset(base_node, nodes):\n",
    "    if len(nodes) == 0:\n",
    "        return [base_node]\n",
    "    connected_ids = [node for node in nodes if connection_matrix[base_node][node]==1]\n",
    "    connected_subset = []\n",
    "    for ii,node in enumerate(connected_ids):\n",
    "        subset = get_max_subset(node,connected_ids[ii+1:])\n",
    "        if len(subset) > len(connected_subset):\n",
    "            connected_subset = subset\n",
    "    connected_subset.append(base_node)\n",
    "    return connected_subset\n",
    "\n",
    "subsets = set()\n",
    "for ii in range(len(connection_matrix)):\n",
    "    subsets.add(tuple(sorted(get_max_subset(ii,list(range(running_id))))))\n",
    "\n",
    "valid_subsets = set()\n",
    "for subset in subsets:\n",
    "    if any([node in valid_node_ids for node in subset]):\n",
    "        valid_subsets.add(subset)\n",
    "\n",
    "node_mapping = {v: k for k, v in nodes.items()} # Inverse node mapping \n",
    "best_seq = sorted(valid_subsets, key = lambda subset: len(subset),reverse=True)[0]\n",
    "best_seq_nodes = sorted([node_mapping[node] for node in best_seq])\n",
    "','.join(best_seq_nodes)"
   ]
  }
 ],
 "metadata": {
  "kernelspec": {
   "display_name": "ADAML",
   "language": "python",
   "name": "python3"
  },
  "language_info": {
   "codemirror_mode": {
    "name": "ipython",
    "version": 3
   },
   "file_extension": ".py",
   "mimetype": "text/x-python",
   "name": "python",
   "nbconvert_exporter": "python",
   "pygments_lexer": "ipython3",
   "version": "3.12.5"
  }
 },
 "nbformat": 4,
 "nbformat_minor": 2
}
