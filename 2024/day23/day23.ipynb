{
 "cells": [
  {
   "cell_type": "code",
   "execution_count": 84,
   "metadata": {},
   "outputs": [],
   "source": [
    "with open('test_input.txt') as file:\n",
    "    data = file.read()\n",
    "\n",
    "data = data.split('\\n')\n"
   ]
  },
  {
   "cell_type": "code",
   "execution_count": 97,
   "metadata": {},
   "outputs": [
    {
     "data": {
      "text/plain": [
       "{(0, 2, 9),\n",
       " (1, 12, 14),\n",
       " (2, 12, 14),\n",
       " (3, 5, 6),\n",
       " (3, 5, 13),\n",
       " (3, 6, 13),\n",
       " (4, 7, 8),\n",
       " (5, 6, 13),\n",
       " (7, 12, 14),\n",
       " (8, 11, 15),\n",
       " (9, 11, 15),\n",
       " (10, 11, 15)}"
      ]
     },
     "execution_count": 97,
     "metadata": {},
     "output_type": "execute_result"
    }
   ],
   "source": [
    "from itertools import combinations\n",
    "# class Node():\n",
    "#     def __init__(self,node_id):\n",
    "#         self.id = node_id\n",
    "#         self.connections = set()\n",
    "#     def add_conection(self,node):\n",
    "#         self.connections.add(node)\n",
    "\n",
    "connection_matrix = []\n",
    "running_id = 0\n",
    "nodes = {}\n",
    "for row in data:\n",
    "    row_nodes = row.split('-')\n",
    "    for node in row_nodes:\n",
    "        if node not in nodes:\n",
    "            nodes[node] = running_id\n",
    "            running_id += 1\n",
    "\n",
    "connection_matrix = [[0 for ii in range(running_id)] for jj in range(running_id)]\n",
    "\n",
    "connection_matrix\n",
    "\n",
    "for row in data:\n",
    "    row_nodes = row.split('-')\n",
    "    row_nodes_ids = sorted([nodes[node] for node in row_nodes])\n",
    "    connection_matrix[row_nodes_ids[0]][row_nodes_ids[1]] = 1\n",
    "\n",
    "\n",
    "\n",
    "\n",
    "subsets = set()\n",
    "for ii in range(running_id):\n",
    "    row = connection_matrix[ii]\n",
    "    connected_ids = [jj for jj in range(ii,running_id) if row[jj]==1]\n",
    "    combos = list(combinations(connected_ids,2))\n",
    "    for combo in combos:\n",
    "        if connection_matrix[combo[0]][combo[1]] == 1:\n",
    "            subsets.add((ii,*combo))\n",
    "\n",
    "    \n",
    "\n",
    "valid_node_ids = [nodes[node] for node in nodes if node[0] == 't']\n",
    "valid_subsets = set()\n",
    "\n",
    "for subset in subsets:\n",
    "    if any([node in valid_node_ids for node in subset]):\n",
    "        valid_subsets.add(subset)\n",
    "\n",
    "\n",
    "len(valid_subsets)\n",
    "\n",
    "subsets\n"
   ]
  },
  {
   "cell_type": "code",
   "execution_count": 102,
   "metadata": {},
   "outputs": [
    {
     "name": "stdout",
     "output_type": "stream",
     "text": [
      "3 [0, 1, 2, 3, 4, 5, 6, 7, 8, 9, 10, 11, 12, 13, 14, 15]\n",
      "4 [5, 6, 13]\n",
      "[]\n",
      "5 [6, 13]\n",
      "6 [13]\n",
      "13 []\n",
      "[]\n",
      "[13]\n",
      "13 []\n",
      "[]\n",
      "[6, 13]\n",
      "6 [13]\n",
      "13 []\n",
      "[]\n",
      "[13]\n",
      "13 []\n",
      "[]\n",
      "[4, 5, 6, 13]\n"
     ]
    }
   ],
   "source": [
    "# connected_ids = [1,2,3,4]\n",
    "# connected_matrix = [[0 for ii in range(len(connected_ids))] for jj in range(len(connected_ids))]\n",
    "# combos = list(combinations(connected_ids,2))\n",
    "# for ii in range(len(connected_ids)):\n",
    "#     for jj in range(ii+1,len(connected_ids)):\n",
    "#         connected_matrix[ii][jj] = m\n",
    "\n",
    "ii = 3\n",
    "row = connection_matrix[ii]\n",
    "\n",
    "def get_connnections(base_node, nodes):\n",
    "    print(base_node,nodes)\n",
    "    connected_ids = [node for node in nodes if connection_matrix[base_node][node]==1]\n",
    "    connected_subsets = []\n",
    "    for ii,node in enumerate(connected_ids):\n",
    "        node = get_connnections(node,connected_ids[ii+1:])\n",
    "            \n",
    "    print(connected_ids)\n",
    "    \n",
    "    \n",
    "\n",
    "\n",
    "get_connnections(ii,list(range(running_id)))"
   ]
  }
 ],
 "metadata": {
  "kernelspec": {
   "display_name": "ADAML",
   "language": "python",
   "name": "python3"
  },
  "language_info": {
   "codemirror_mode": {
    "name": "ipython",
    "version": 3
   },
   "file_extension": ".py",
   "mimetype": "text/x-python",
   "name": "python",
   "nbconvert_exporter": "python",
   "pygments_lexer": "ipython3",
   "version": "3.12.5"
  }
 },
 "nbformat": 4,
 "nbformat_minor": 2
}
