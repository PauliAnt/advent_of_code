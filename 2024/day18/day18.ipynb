{
 "cells": [
  {
   "cell_type": "code",
   "execution_count": 155,
   "metadata": {},
   "outputs": [],
   "source": [
    "with open('input.txt') as file:\n",
    "    data = file.read()\n",
    "    data = [tuple([int(x) for x in row.split(',')]) for row in data.split('\\n')]\n"
   ]
  },
  {
   "cell_type": "code",
   "execution_count": null,
   "metadata": {},
   "outputs": [],
   "source": [
    "# Breadth first with custom sorting. Very nice, very clean\n",
    "\n",
    "class Maze():\n",
    "    def __init__(self,obst,falling, pos,target, grid_size):\n",
    "        self.obst = obst\n",
    "        self.falling = falling\n",
    "        self.start_pos = pos\n",
    "        self.target = target\n",
    "        self.grid_size = grid_size + 1\n",
    "        self.visited = {}\n",
    "\n",
    "    def find_path(self, mode = 'shortest'):\n",
    "        if mode == 'short':\n",
    "            criteria = 0\n",
    "        if mode == 'durable':\n",
    "            criteria = 1\n",
    "\n",
    "        directions =  [(1,0), (0,1), (-1,0), (0, -1)]\n",
    "        self.process_que = [self.start_pos]\n",
    "        self.visited = {self.start_pos:(0, -len(self.falling))} # dict structure {pos: (distance, durability)}\n",
    "        target_reached = False\n",
    "\n",
    "        while len(self.process_que) > 0:\n",
    "            self.process_que = sorted(self.process_que, key= lambda pos: self.visited[pos][criteria]) # Sort que by criteria\n",
    "\n",
    "            pos = self.process_que.pop(0)\n",
    "            (s, durability) = self.visited[pos]\n",
    "            s = s + 1\n",
    "\n",
    "            for direction in directions: # Look at all direction\n",
    "                next_pos = (pos[0] + direction[0], pos[1] + direction[1])\n",
    "                # Check OB\n",
    "                if not (0 <= next_pos[0] < self.grid_size and 0 <= next_pos[1] < self.grid_size): \n",
    "                    continue\n",
    "                \n",
    "                durability_next = durability # default value in case position is not going to go corrupt\n",
    "                if next_pos in self.falling:\n",
    "                    # Take minimum current durability and durability of the next point (max cause they are neg)\n",
    "                    durability_next = max(durability_next, -self.falling.index(next_pos)) \n",
    "    \t\n",
    "                # Check if cell is not corrupt\n",
    "                if next_pos not in self.obst:\n",
    "                    next_pos_criteria = (s, durability_next)\n",
    "\n",
    "                    # Check if target is reached\n",
    "                    if next_pos == self.target:\n",
    "                            return s, durability_next, self.falling[-durability_next]\n",
    "                    \n",
    "                    # Check if position is visited\n",
    "                    if next_pos not in self.visited:\n",
    "                        self.visited[next_pos] = next_pos_criteria\n",
    "                        self.process_que.append(next_pos)\n",
    "\n",
    "maze = Maze(data[:1024], data[1024:], (0,0), (70,70), 70)\n",
    "print(maze.find_path(mode='short')) # silver\n",
    "print(maze.find_path(mode='durable')) # gold"
   ]
  }
 ],
 "metadata": {
  "kernelspec": {
   "display_name": "aoc",
   "language": "python",
   "name": "python3"
  },
  "language_info": {
   "codemirror_mode": {
    "name": "ipython",
    "version": 3
   },
   "file_extension": ".py",
   "mimetype": "text/x-python",
   "name": "python",
   "nbconvert_exporter": "python",
   "pygments_lexer": "ipython3",
   "version": "3.13.0"
  }
 },
 "nbformat": 4,
 "nbformat_minor": 2
}
