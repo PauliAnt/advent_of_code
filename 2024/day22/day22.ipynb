{
 "cells": [
  {
   "cell_type": "code",
   "execution_count": null,
   "metadata": {},
   "outputs": [],
   "source": [
    "# SILVER\n",
    "with open('input.txt') as file:\n",
    "    data = file.read()\n",
    "\n",
    "data = data.split('\\n')\n",
    "\n",
    "class SNM(): \n",
    "    def __init__(self,num):\n",
    "        self.num = num\n",
    "        self.prices = []\n",
    "    def next_num(self):\n",
    "        bit_mask = 2**24 - 1\n",
    "        self.num = ((self.num << 6) ^  self.num) & bit_mask\n",
    "        self.num = ((self.num >> 5) ^ self.num) & bit_mask\n",
    "        self.num = ((self.num << 11) ^ self.num) & bit_mask\n",
    "        self.prices.append(self.num % 10)\n",
    "        return self.num\n",
    "\n",
    "\n",
    "data = [int(row) for row in data]\n",
    "prices = []\n",
    "s = 0\n",
    "for row in data:\n",
    "    snm = SNM(row)\n",
    "    for ii in range(2000):\n",
    "        snm.next_num()\n",
    "    s+=snm.num\n",
    "    prices.append(snm.prices)\n",
    "s"
   ]
  },
  {
   "cell_type": "code",
   "execution_count": null,
   "metadata": {},
   "outputs": [],
   "source": [
    "# GOLD \n",
    "from collections import Counter\n",
    "\n",
    "patterns = Counter() # Keep count of Bananas for each pattern\n",
    "\n",
    "for price_list in prices:\n",
    "\n",
    "    # Calculate differences\n",
    "    differences = [0]*(len(price_list))\n",
    "    for ii in range(1,len(price_list)):\n",
    "        differences[ii] = price_list[ii] - price_list[ii-1]\n",
    "\n",
    "    used_patterns = set() # Set of used patterns to only capture first of each pattern\n",
    "    \n",
    "    # Loop throug patterns\n",
    "    for ii in range(5,len(price_list)+1):\n",
    "    \n",
    "        pattern = tuple(differences[ii-4:ii])\n",
    "        if pattern not in used_patterns: \n",
    "            used_patterns.add(pattern) # Add to list of used patterns\n",
    "            patterns[pattern] += price_list[ii-1] \n",
    "    \n",
    "\n",
    "patterns"
   ]
  }
 ],
 "metadata": {
  "kernelspec": {
   "display_name": "ADAML",
   "language": "python",
   "name": "python3"
  },
  "language_info": {
   "codemirror_mode": {
    "name": "ipython",
    "version": 3
   },
   "file_extension": ".py",
   "mimetype": "text/x-python",
   "name": "python",
   "nbconvert_exporter": "python",
   "pygments_lexer": "ipython3",
   "version": "3.12.5"
  }
 },
 "nbformat": 4,
 "nbformat_minor": 2
}
