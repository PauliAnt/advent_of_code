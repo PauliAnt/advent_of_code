{
 "cells": [
  {
   "cell_type": "code",
   "execution_count": null,
   "metadata": {},
   "outputs": [],
   "source": [
    "with open('input.txt') as file:\n",
    "    data = file.read()\n",
    "\n",
    "data = data.split('\\n')\n",
    "data = [[int(num) for num in row] for row in data]\n",
    "data_shape = (len(data),len(data[0]))"
   ]
  },
  {
   "cell_type": "code",
   "execution_count": null,
   "metadata": {},
   "outputs": [],
   "source": [
    "# Recursive gäng, 25 rows for both tasks,\n",
    "# very mindfull, very demure\n",
    "def find_path(current_pos ,num , peaks = [], rating = 0):\n",
    "\n",
    "    if num == 9:\n",
    "        if current_pos not in peaks:\n",
    "            peaks.append(current_pos) # Add to list if unique\n",
    "        rating += 1 # Add one distinct path\n",
    "        return peaks, rating\n",
    "    \n",
    "    # We are checking the previous number but I dont care\n",
    "    directions = [(-1,0),(1,0),(0,1),(0,-1)]\n",
    "\n",
    "\n",
    "    for direction in directions:\n",
    "        # Calculate new position\n",
    "        new_pos = (current_pos[0] + direction[0], current_pos[1] + direction[1])\n",
    "        # Check OB\n",
    "        if new_pos[0] >= data_shape[0] or new_pos[1] >= data_shape[1] or new_pos[0] < 0 or new_pos[1] < 0:\n",
    "            continue\n",
    "        # Check if valid path\n",
    "        if data[new_pos[0]][new_pos[1]] == num + 1:\n",
    "            # Recursively go throught every valid path\n",
    "            peaks, rating = find_path(new_pos, num + 1, peaks, rating)\n",
    "                \n",
    "    return peaks, rating\n",
    "\n",
    "# Find zeros\n",
    "starting_points = []\n",
    "for row in range(len(data)):\n",
    "    for col in range(len(data[0])):\n",
    "        if data[row][col] == 0:\n",
    "            starting_points.append((row,col))\n",
    "\n",
    "silver,gold = 0,0\n",
    "for pos in starting_points:\n",
    "    peaks = [] # To ensure that the list is empty\n",
    "    peaks, rating = find_path(pos,0,peaks)\n",
    "    silver += len(peaks)\n",
    "    gold += rating\n",
    "\n",
    "silver, gold"
   ]
  }
 ],
 "metadata": {
  "kernelspec": {
   "display_name": "aoc",
   "language": "python",
   "name": "python3"
  },
  "language_info": {
   "codemirror_mode": {
    "name": "ipython",
    "version": 3
   },
   "file_extension": ".py",
   "mimetype": "text/x-python",
   "name": "python",
   "nbconvert_exporter": "python",
   "pygments_lexer": "ipython3",
   "version": "3.13.0"
  }
 },
 "nbformat": 4,
 "nbformat_minor": 2
}
