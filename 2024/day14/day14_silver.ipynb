{
 "cells": [
  {
   "cell_type": "code",
   "execution_count": null,
   "metadata": {},
   "outputs": [],
   "source": [
    "from RobotGrid import RobotGrid\n",
    "\n",
    "with open('input.txt') as file:\n",
    "    data = file.read()\n",
    "\n",
    "data = data.split('\\n')\n",
    "grid = RobotGrid(101,103)\n",
    "for row in data:\n",
    "    pos = tuple([int(num) for num in row.split(' ')[0].split('=')[1].split(',')])\n",
    "    vel = tuple([int(num) for num in row.split(' ')[1].split('=')[1].split(',')])\n",
    "    grid.add_robot(pos,vel)\n",
    "\n",
    "grid.iterate_over_time(100)\n",
    "print(grid.safety_score())\n",
    "\n"
   ]
  }
 ],
 "metadata": {
  "kernelspec": {
   "display_name": "ADAML",
   "language": "python",
   "name": "python3"
  },
  "language_info": {
   "codemirror_mode": {
    "name": "ipython",
    "version": 3
   },
   "file_extension": ".py",
   "mimetype": "text/x-python",
   "name": "python",
   "nbconvert_exporter": "python",
   "pygments_lexer": "ipython3",
   "version": "3.12.5"
  }
 },
 "nbformat": 4,
 "nbformat_minor": 2
}
