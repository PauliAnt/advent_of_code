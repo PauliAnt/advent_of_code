{
 "cells": [
  {
   "cell_type": "code",
   "execution_count": null,
   "metadata": {},
   "outputs": [],
   "source": [
    "# Recursion gang with cached results. Depth first search with bit manipulation. 0.5 sec run time\n",
    "import functools\n",
    "\n",
    "with open('input.txt') as file:\n",
    "    data = file.read()\n",
    "\n",
    "towels = data.split('\\n\\n')[0]\n",
    "\n",
    "## Parse data\n",
    "# Replace colors with 3 bit numbers. Concatenate these numbers into one single n_bit integer\n",
    "mapping = {'w':'000','u':'001','b':'010','r':'011','g':'100'}\n",
    "\n",
    "towels_bin = [''.join(reversed([mapping[x] for x in towel])) for towel in towels.split(', ')]\n",
    "towels_bin_count = [len(towel)*3 for towel in towels.split(', ')]\n",
    "towels = [(int(towels_bin[ii],2),towels_bin_count[ii]) for ii in range(len(towels_bin))]  # (towel_pattern, n_bit)\n",
    "\n",
    "patterns = data.split('\\n\\n')[1].split('\\n')\n",
    "patterns_bin = [''.join(reversed([mapping[x] for x in pattern])) for pattern in patterns]\n",
    "patterns_bin_count = [len(pattern)*3 for pattern in patterns]\n",
    "patterns = [(int(patterns_bin[ii],2),patterns_bin_count[ii]) for ii in range(len(patterns_bin))] # (pattern, n_bit)\n",
    "\n",
    " \n",
    "# Cache result for fast lookup\n",
    "@functools.cache\n",
    "def count_seq(pattern_tuple):\n",
    "    def bit_mask(n_bit): # Get end n bits from number\n",
    "        return 2**(n_bit) - 1\n",
    "    s = 0\n",
    "    pattern, n_bit = pattern_tuple\n",
    "    if n_bit == 0:\n",
    "        return 1\n",
    "    for towel,n_bit_towel in towels:\n",
    "        if n_bit_towel > n_bit:\n",
    "            continue\n",
    "        if (pattern >> (n_bit - n_bit_towel)) == towel:\n",
    "            s += count_seq((pattern & bit_mask(n_bit-n_bit_towel), n_bit - n_bit_towel))\n",
    "    return s\n",
    "\n",
    "\n",
    "s, g = 0, 0\n",
    "for pattern in patterns:\n",
    "    n = count_seq(pattern)\n",
    "    s += (n > 0)    # Silver\n",
    "    g +=  n         # Gold"
   ]
  }
 ],
 "metadata": {
  "kernelspec": {
   "display_name": "aoc",
   "language": "python",
   "name": "python3"
  },
  "language_info": {
   "codemirror_mode": {
    "name": "ipython",
    "version": 3
   },
   "file_extension": ".py",
   "mimetype": "text/x-python",
   "name": "python",
   "nbconvert_exporter": "python",
   "pygments_lexer": "ipython3",
   "version": "3.13.0"
  }
 },
 "nbformat": 4,
 "nbformat_minor": 2
}
