{
 "cells": [
  {
   "cell_type": "code",
   "execution_count": 105,
   "metadata": {},
   "outputs": [
    {
     "name": "stdout",
     "output_type": "stream",
     "text": [
      "0.0\n"
     ]
    },
    {
     "ename": "KeyboardInterrupt",
     "evalue": "",
     "output_type": "error",
     "traceback": [
      "\u001b[1;31m---------------------------------------------------------------------------\u001b[0m",
      "\u001b[1;31mKeyboardInterrupt\u001b[0m                         Traceback (most recent call last)",
      "Cell \u001b[1;32mIn[105], line 60\u001b[0m\n\u001b[0;32m     58\u001b[0m     \u001b[38;5;28;01mif\u001b[39;00m find_seq(pattern):\n\u001b[0;32m     59\u001b[0m         s \u001b[38;5;241m+\u001b[39m\u001b[38;5;241m=\u001b[39m \u001b[38;5;241m1\u001b[39m\n\u001b[1;32m---> 60\u001b[0m         g \u001b[38;5;241m+\u001b[39m\u001b[38;5;241m=\u001b[39m \u001b[43mcount_seq\u001b[49m\u001b[43m(\u001b[49m\u001b[43mpattern\u001b[49m\u001b[43m)\u001b[49m\n\u001b[0;32m     62\u001b[0m s,g\n\u001b[0;32m     63\u001b[0m \u001b[38;5;66;03m# 255\u001b[39;00m\n",
      "Cell \u001b[1;32mIn[105], line 50\u001b[0m, in \u001b[0;36mcount_seq\u001b[1;34m(pattern_tuple)\u001b[0m\n\u001b[0;32m     48\u001b[0m         \u001b[38;5;28;01mcontinue\u001b[39;00m\n\u001b[0;32m     49\u001b[0m     \u001b[38;5;28;01mif\u001b[39;00m (pattern \u001b[38;5;241m>>\u001b[39m (n_bit \u001b[38;5;241m-\u001b[39m n_bit_towel)) \u001b[38;5;241m==\u001b[39m towel:\n\u001b[1;32m---> 50\u001b[0m         s \u001b[38;5;241m+\u001b[39m\u001b[38;5;241m=\u001b[39m \u001b[43mcount_seq\u001b[49m\u001b[43m(\u001b[49m\u001b[43m(\u001b[49m\u001b[43mpattern\u001b[49m\u001b[43m \u001b[49m\u001b[38;5;241;43m&\u001b[39;49m\u001b[43m \u001b[49m\u001b[43mbit_mask\u001b[49m\u001b[43m(\u001b[49m\u001b[43mn_bit\u001b[49m\u001b[38;5;241;43m-\u001b[39;49m\u001b[43mn_bit_towel\u001b[49m\u001b[43m)\u001b[49m\u001b[43m,\u001b[49m\u001b[43m \u001b[49m\u001b[43mn_bit\u001b[49m\u001b[43m \u001b[49m\u001b[38;5;241;43m-\u001b[39;49m\u001b[43m \u001b[49m\u001b[43mn_bit_towel\u001b[49m\u001b[43m)\u001b[49m\u001b[43m)\u001b[49m\n\u001b[0;32m     52\u001b[0m \u001b[38;5;28;01mreturn\u001b[39;00m s\n",
      "Cell \u001b[1;32mIn[105], line 50\u001b[0m, in \u001b[0;36mcount_seq\u001b[1;34m(pattern_tuple)\u001b[0m\n\u001b[0;32m     48\u001b[0m         \u001b[38;5;28;01mcontinue\u001b[39;00m\n\u001b[0;32m     49\u001b[0m     \u001b[38;5;28;01mif\u001b[39;00m (pattern \u001b[38;5;241m>>\u001b[39m (n_bit \u001b[38;5;241m-\u001b[39m n_bit_towel)) \u001b[38;5;241m==\u001b[39m towel:\n\u001b[1;32m---> 50\u001b[0m         s \u001b[38;5;241m+\u001b[39m\u001b[38;5;241m=\u001b[39m \u001b[43mcount_seq\u001b[49m\u001b[43m(\u001b[49m\u001b[43m(\u001b[49m\u001b[43mpattern\u001b[49m\u001b[43m \u001b[49m\u001b[38;5;241;43m&\u001b[39;49m\u001b[43m \u001b[49m\u001b[43mbit_mask\u001b[49m\u001b[43m(\u001b[49m\u001b[43mn_bit\u001b[49m\u001b[38;5;241;43m-\u001b[39;49m\u001b[43mn_bit_towel\u001b[49m\u001b[43m)\u001b[49m\u001b[43m,\u001b[49m\u001b[43m \u001b[49m\u001b[43mn_bit\u001b[49m\u001b[43m \u001b[49m\u001b[38;5;241;43m-\u001b[39;49m\u001b[43m \u001b[49m\u001b[43mn_bit_towel\u001b[49m\u001b[43m)\u001b[49m\u001b[43m)\u001b[49m\n\u001b[0;32m     52\u001b[0m \u001b[38;5;28;01mreturn\u001b[39;00m s\n",
      "    \u001b[1;31m[... skipping similar frames: count_seq at line 50 (23 times)]\u001b[0m\n",
      "Cell \u001b[1;32mIn[105], line 50\u001b[0m, in \u001b[0;36mcount_seq\u001b[1;34m(pattern_tuple)\u001b[0m\n\u001b[0;32m     48\u001b[0m         \u001b[38;5;28;01mcontinue\u001b[39;00m\n\u001b[0;32m     49\u001b[0m     \u001b[38;5;28;01mif\u001b[39;00m (pattern \u001b[38;5;241m>>\u001b[39m (n_bit \u001b[38;5;241m-\u001b[39m n_bit_towel)) \u001b[38;5;241m==\u001b[39m towel:\n\u001b[1;32m---> 50\u001b[0m         s \u001b[38;5;241m+\u001b[39m\u001b[38;5;241m=\u001b[39m \u001b[43mcount_seq\u001b[49m\u001b[43m(\u001b[49m\u001b[43m(\u001b[49m\u001b[43mpattern\u001b[49m\u001b[43m \u001b[49m\u001b[38;5;241;43m&\u001b[39;49m\u001b[43m \u001b[49m\u001b[43mbit_mask\u001b[49m\u001b[43m(\u001b[49m\u001b[43mn_bit\u001b[49m\u001b[38;5;241;43m-\u001b[39;49m\u001b[43mn_bit_towel\u001b[49m\u001b[43m)\u001b[49m\u001b[43m,\u001b[49m\u001b[43m \u001b[49m\u001b[43mn_bit\u001b[49m\u001b[43m \u001b[49m\u001b[38;5;241;43m-\u001b[39;49m\u001b[43m \u001b[49m\u001b[43mn_bit_towel\u001b[49m\u001b[43m)\u001b[49m\u001b[43m)\u001b[49m\n\u001b[0;32m     52\u001b[0m \u001b[38;5;28;01mreturn\u001b[39;00m s\n",
      "Cell \u001b[1;32mIn[105], line 49\u001b[0m, in \u001b[0;36mcount_seq\u001b[1;34m(pattern_tuple)\u001b[0m\n\u001b[0;32m     47\u001b[0m     \u001b[38;5;28;01mif\u001b[39;00m n_bit_towel \u001b[38;5;241m>\u001b[39m n_bit:\n\u001b[0;32m     48\u001b[0m         \u001b[38;5;28;01mcontinue\u001b[39;00m\n\u001b[1;32m---> 49\u001b[0m     \u001b[38;5;28;01mif\u001b[39;00m (pattern \u001b[38;5;241m>>\u001b[39m (n_bit \u001b[38;5;241m-\u001b[39m n_bit_towel)) \u001b[38;5;241m==\u001b[39m towel:\n\u001b[0;32m     50\u001b[0m         s \u001b[38;5;241m+\u001b[39m\u001b[38;5;241m=\u001b[39m count_seq((pattern \u001b[38;5;241m&\u001b[39m bit_mask(n_bit\u001b[38;5;241m-\u001b[39mn_bit_towel), n_bit \u001b[38;5;241m-\u001b[39m n_bit_towel))\n\u001b[0;32m     52\u001b[0m \u001b[38;5;28;01mreturn\u001b[39;00m s\n",
      "\u001b[1;31mKeyboardInterrupt\u001b[0m: "
     ]
    }
   ],
   "source": [
    "with open('input.txt') as file:\n",
    "    data = file.read()\n",
    "\n",
    "towels = data.split('\\n\\n')[0]\n",
    "\n",
    "mapping = {'w':'000','u':'001','b':'010','r':'011','g':'100'}\n",
    "\n",
    "towels_bin = [''.join(reversed([mapping[x] for x in towel])) for towel in towels.split(', ')]\n",
    "towels_bin_count = [len(towel)*3 for towel in towels.split(', ')]\n",
    "towels = [(int(towels_bin[ii],2),towels_bin_count[ii]) for ii in range(len(towels_bin))] \n",
    "\n",
    "patterns = data.split('\\n\\n')[1].split('\\n')\n",
    "patterns_bin = [''.join(reversed([mapping[x] for x in pattern])) for pattern in patterns]\n",
    "patterns_bin_count = [len(pattern)*3 for pattern in patterns]\n",
    "patterns = [(int(patterns_bin[ii],2),patterns_bin_count[ii]) for ii in range(len(patterns_bin))]\n",
    "\n",
    "\n",
    "def render_number(pattern,n_bit):\n",
    "    s = ''\n",
    "    mapping = {0:'w',1:'u',2:'b',3:'r',4:'g'}\n",
    "    for ii in range(0,n_bit,3):\n",
    "        s += mapping[(pattern >> ii) & 0b111]\n",
    "    return s\n",
    "\n",
    "def find_seq(pattern_tuple):\n",
    "    def bit_mask(n_bit):\n",
    "        return 2**(n_bit) - 1\n",
    "    pattern, n_bit = pattern_tuple\n",
    "    if n_bit == 0:\n",
    "        return True\n",
    "    for towel,n_bit_towel in towels:\n",
    "        if n_bit_towel > n_bit:\n",
    "            continue\n",
    "        if (pattern >> (n_bit - n_bit_towel)) == towel:\n",
    "            if find_seq((pattern & bit_mask(n_bit-n_bit_towel), n_bit - n_bit_towel)):\n",
    "                    return True\n",
    "    return False\n",
    "\n",
    "def count_seq(pattern_tuple):\n",
    "    def bit_mask(n_bit):\n",
    "        return 2**(n_bit) - 1\n",
    "    s = 0\n",
    "    pattern, n_bit = pattern_tuple\n",
    "    if n_bit == 0:\n",
    "        return 1\n",
    "    for towel,n_bit_towel in towels:\n",
    "        if n_bit_towel > n_bit:\n",
    "            continue\n",
    "        if (pattern >> (n_bit - n_bit_towel)) == towel:\n",
    "            s += count_seq((pattern & bit_mask(n_bit-n_bit_towel), n_bit - n_bit_towel))\n",
    "\n",
    "    return s\n",
    "\n",
    "s = 0\n",
    "g = 0\n",
    "for ii,pattern in enumerate(patterns):\n",
    "    print(ii/len(patterns))\n",
    "    if find_seq(pattern):\n",
    "        s += 1\n",
    "        g += count_seq(pattern)\n",
    "\n",
    "s,g\n",
    "# 255"
   ]
  }
 ],
 "metadata": {
  "kernelspec": {
   "display_name": "aoc",
   "language": "python",
   "name": "python3"
  },
  "language_info": {
   "codemirror_mode": {
    "name": "ipython",
    "version": 3
   },
   "file_extension": ".py",
   "mimetype": "text/x-python",
   "name": "python",
   "nbconvert_exporter": "python",
   "pygments_lexer": "ipython3",
   "version": "3.13.0"
  }
 },
 "nbformat": 4,
 "nbformat_minor": 2
}
