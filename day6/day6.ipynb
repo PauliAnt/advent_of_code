{
 "cells": [
  {
   "cell_type": "code",
   "execution_count": null,
   "metadata": {},
   "outputs": [],
   "source": [
    "# Task 1\n",
    "import numpy as np\n",
    "import pandas as pd\n",
    "\n",
    "data = pd.read_table('input.txt',header=None,sep=\" \",skipinitialspace=True,names=[1,2,3,4]).to_numpy()\n",
    "\n",
    "\n",
    "combinations = 1\n",
    "for col in data.T:\n",
    "    t_wins = 0\n",
    "    T = col[0]\n",
    "    D = col[1]\n",
    "    for t in range(1,T):\n",
    "        if D/(T-t) < t:\n",
    "            break\n",
    "    combinations *= (T+1)-2*t # +1 to include start point t = 0 as well\n",
    "\n",
    "combinations\n"
   ]
  },
  {
   "cell_type": "code",
   "execution_count": null,
   "metadata": {},
   "outputs": [],
   "source": [
    "# Task 2\n",
    "import numpy as np\n",
    "import pandas as pd\n",
    "\n",
    "with open('input.txt') as file:\n",
    "    text = file.read()\n",
    "\n",
    "T = int(text.split('\\n')[0].split(':')[1].replace(' ',''))\n",
    "D = int(text.split('\\n')[1].split(':')[1].replace(' ',''))\n",
    "\n",
    "for t in range(1,T):\n",
    "    if D/(T-t) < t:\n",
    "        break\n",
    "\n",
    "(T+1)-2*t # +1 to include start point t = 0 as well"
   ]
  }
 ],
 "metadata": {
  "kernelspec": {
   "display_name": "base",
   "language": "python",
   "name": "python3"
  },
  "language_info": {
   "codemirror_mode": {
    "name": "ipython",
    "version": 3
   },
   "file_extension": ".py",
   "mimetype": "text/x-python",
   "name": "python",
   "nbconvert_exporter": "python",
   "pygments_lexer": "ipython3",
   "version": "3.11.5"
  }
 },
 "nbformat": 4,
 "nbformat_minor": 2
}
