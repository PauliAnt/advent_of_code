{
 "cells": [
  {
   "cell_type": "code",
   "execution_count": 7,
   "metadata": {},
   "outputs": [],
   "source": [
    "def parse_line(line):\n",
    "    game_id = int(line.split(': ')[0][5:])\n",
    "    line = line.split(': ')[1]\n",
    "    line = line.replace('\\n',\"\")\n",
    "    batches = line.split('; ')\n",
    "    return batches,game_id"
   ]
  },
  {
   "cell_type": "code",
   "execution_count": 8,
   "metadata": {},
   "outputs": [
    {
     "data": {
      "text/plain": [
       "2406"
      ]
     },
     "execution_count": 8,
     "metadata": {},
     "output_type": "execute_result"
    }
   ],
   "source": [
    "# TASK 1\n",
    "\n",
    "\n",
    "with open('input.txt') as f:\n",
    "    lines = f.readlines()\n",
    "\n",
    "sum_false_inputs = 0\n",
    "\n",
    "for ii,line in enumerate(lines): \n",
    "    false_input = False\n",
    "    batches,game_id = parse_line(line)\n",
    "\n",
    "    for batch in batches:\n",
    "        cube_capacity = {'red':12,'green':13,'blue':14}\n",
    "\n",
    "        batch = batch.replace('\\n',\"\")\n",
    "        draws = batch.split(', ')\n",
    "\n",
    "        for draw in draws:\n",
    "            count = int(draw.split(' ')[0])\n",
    "            color = draw.split(' ')[1]\n",
    "            \n",
    "            cube_capacity[color] -= count\n",
    "            if cube_capacity[color] < 0:\n",
    "                false_input = True\n",
    "    if not false_input:\n",
    "        sum_false_inputs += game_id\n",
    "\n",
    "            \n",
    "sum_false_inputs\n",
    "# 2406 "
   ]
  },
  {
   "cell_type": "code",
   "execution_count": 9,
   "metadata": {},
   "outputs": [
    {
     "data": {
      "text/plain": [
       "78375"
      ]
     },
     "execution_count": 9,
     "metadata": {},
     "output_type": "execute_result"
    }
   ],
   "source": [
    "with open('input.txt') as f:\n",
    "    lines = f.readlines()\n",
    "\n",
    "sum_power_cubes = 0\n",
    "\n",
    "for ii,line in enumerate(lines):\n",
    "    min_cubes = {'red':0,'green':0,'blue':0}\n",
    "    false_input = False\n",
    "\n",
    "    line = line.split(': ')[1]\n",
    "    line = line.replace('\\n',\"\")\n",
    "    batches = line.split('; ')\n",
    "    for batch in batches:\n",
    "        \n",
    "\n",
    "        batch = batch.replace('\\n',\"\")\n",
    "        draws = batch.split(', ')\n",
    "\n",
    "        for draw in draws:\n",
    "            count = int(draw.split(' ')[0])\n",
    "            color = draw.split(' ')[1]\n",
    "            \n",
    "            if min_cubes[color] < count:\n",
    "                min_cubes[color] = count\n",
    "\n",
    "    sum_power_cubes += min_cubes['red']*min_cubes['green']*min_cubes['blue']\n",
    "\n",
    "            \n",
    "sum_power_cubes"
   ]
  }
 ],
 "metadata": {
  "kernelspec": {
   "display_name": "base",
   "language": "python",
   "name": "python3"
  },
  "language_info": {
   "codemirror_mode": {
    "name": "ipython",
    "version": 3
   },
   "file_extension": ".py",
   "mimetype": "text/x-python",
   "name": "python",
   "nbconvert_exporter": "python",
   "pygments_lexer": "ipython3",
   "version": "3.11.5"
  }
 },
 "nbformat": 4,
 "nbformat_minor": 2
}
