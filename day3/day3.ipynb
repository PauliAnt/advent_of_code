{
 "cells": [
  {
   "cell_type": "code",
   "execution_count": 7,
   "metadata": {},
   "outputs": [
    {
     "data": {
      "text/plain": [
       "532428"
      ]
     },
     "execution_count": 7,
     "metadata": {},
     "output_type": "execute_result"
    }
   ],
   "source": [
    "# Task 1\n",
    "with open('input.txt') as f:\n",
    "    lines = f.readlines()\n",
    "\n",
    "\n",
    "table = []\n",
    "\n",
    "for ii,line in enumerate(lines):\n",
    "    line = line.replace('\\n','')\n",
    "    table.append([*line])\n",
    "\n",
    "N = len(lines)\n",
    "M = len(line)\n",
    "\n",
    "sum_numbers = 0\n",
    "# for ii in range(len(lines)):\n",
    "for ii in range(N):\n",
    "    jj = 0\n",
    "    while jj < M:\n",
    "        if table[ii][jj].isnumeric():\n",
    "            \n",
    "            # Find start and stop indexes of the numbers\n",
    "            start = jj\n",
    "            while (table[ii][jj].isnumeric()):\n",
    "                jj += 1\n",
    "                if jj >= M:\n",
    "                    break\n",
    "            stop = jj\n",
    "\n",
    "            # Check adjacency\n",
    "            symbol_found = False\n",
    "            for row in range(max(ii-1, 0), min(ii+2, N)):\n",
    "                for col in range(max(start-1, 0), min(stop+1, M)):\n",
    "                    if ((not table[row][col].isnumeric()) and (table[row][col] != '.')):\n",
    "                        sep = ''\n",
    "                        sum_numbers += int(sep.join(table[ii][start:stop]))\n",
    "                        symbol_found = True \n",
    "                        break\n",
    "             \n",
    "                if symbol_found:\n",
    "                    break\n",
    "\n",
    "            # Debugging\n",
    "            # print(f'Number {sep.join(table[ii][start:stop])} position {ii},{start}-{stop} found {symbol_found}')\n",
    "            # print(table[max(ii-1, 0)][max(start-1, 0):min(stop+1, M)])\n",
    "            # print(table[ii][start-1:stop+1])\n",
    "            # print(table[min(ii+1, N-1)][max(start-1, 0):min(stop+1, M)])\n",
    "    \n",
    "        jj += 1\n",
    "\n",
    "\n",
    "sum_numbers\n"
   ]
  },
  {
   "cell_type": "code",
   "execution_count": 8,
   "metadata": {},
   "outputs": [
    {
     "data": {
      "text/plain": [
       "84051670"
      ]
     },
     "execution_count": 8,
     "metadata": {},
     "output_type": "execute_result"
    }
   ],
   "source": [
    "#Task 2\n",
    "\n",
    "with open('input.txt') as f:\n",
    "    lines = f.readlines()\n",
    "\n",
    "\n",
    "table = []\n",
    "\n",
    "for ii,line in enumerate(lines):\n",
    "    line = line.replace('\\n','')\n",
    "    table.append([*line])\n",
    "\n",
    "N = len(lines)\n",
    "M = len(line)\n",
    "\n",
    "sum_gear_ratios = 0\n",
    "# for ii in range(len(lines)):\n",
    "for ii in range(N):\n",
    "    jj = 0\n",
    "    while jj < M:\n",
    "        if table[ii][jj] == '*':\n",
    "            gears = []\n",
    "\n",
    "            for row in range(max(ii-1, 0), min(ii+2, N)):\n",
    "                skips = 0\n",
    "                for col in range(max(jj-1, 0), min(jj+2, M)):\n",
    "                    \n",
    "                    if skips != 0:\n",
    "                        skips -= 1\n",
    "                        continue\n",
    "\n",
    "                    if table[row][col].isnumeric():\n",
    "                        # find start\n",
    "                        start = col\n",
    "                        while table[row][start].isnumeric():\n",
    "                            start -= 1\n",
    "                            if start < 0:\n",
    "                                break\n",
    "                        start += 1\n",
    "\n",
    "                        # find end\n",
    "                        end = col\n",
    "                        while table[row][end].isnumeric():\n",
    "                            end += 1\n",
    "                            skips += 1 # To prevent double reads of the same number\n",
    "                            if end >= N:\n",
    "                                break\n",
    "                        \n",
    "                        sep = ''\n",
    "                        # print(sep.join[table[row][start:end+1]]\n",
    "                        gears.append(int(sep.join(table[row][start:end])))\n",
    "\n",
    "            if len(gears) == 2:\n",
    "                sum_gear_ratios += gears[0]*gears[1]\n",
    "            \n",
    "            # Debugging\n",
    "            # print(f'Location {ii,jj} gears: {gears}')\n",
    "            # print(table[max(ii-1, 0)][max(jj-1, 0):min(jj+2, M)])\n",
    "            # print(table[ii][max(jj-1, 0):min(jj+2, M)])\n",
    "            # print(table[min(ii+1, N-1)][max(jj-1, 0):min(jj+2, M)])\n",
    "    \n",
    "        jj += 1\n",
    "\n",
    "sum_gear_ratios"
   ]
  }
 ],
 "metadata": {
  "kernelspec": {
   "display_name": "base",
   "language": "python",
   "name": "python3"
  },
  "language_info": {
   "codemirror_mode": {
    "name": "ipython",
    "version": 3
   },
   "file_extension": ".py",
   "mimetype": "text/x-python",
   "name": "python",
   "nbconvert_exporter": "python",
   "pygments_lexer": "ipython3",
   "version": "3.11.5"
  }
 },
 "nbformat": 4,
 "nbformat_minor": 2
}
