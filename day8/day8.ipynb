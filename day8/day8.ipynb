{
 "cells": [
  {
   "cell_type": "code",
   "execution_count": 96,
   "metadata": {},
   "outputs": [
    {
     "data": {
      "text/plain": [
       "13939"
      ]
     },
     "execution_count": 96,
     "metadata": {},
     "output_type": "execute_result"
    }
   ],
   "source": [
    "def find_node(instructions,current_node,depth,node_dict):\n",
    "    \n",
    "    if instructions == '' or current_node == 'ZZZ':\n",
    "        return current_node,depth\n",
    "\n",
    "    next_instruction = instructions[0]\n",
    "    directions = {'L':0,'R':1}\n",
    "    next_node_ind = directions[next_instruction]\n",
    "    next_node = node_dict[current_node][next_node_ind]\n",
    "    # print(instructions[:5],current_node,node_dict[current_node])\n",
    "    return find_node(instructions[1:],next_node,depth+1,node_dict)\n",
    "\n",
    "\n",
    "with open('input.txt') as file:\n",
    "    lines = file.readlines()\n",
    "\n",
    "\n",
    "instructions = lines[0].replace('\\n','')\n",
    "\n",
    "# Parse dictionary of nodes from the data\n",
    "node_dict = {}\n",
    "for line in lines[2:]:\n",
    "    line = line.replace('\\n','')\n",
    "    elems = line.split(' = ')\n",
    "    \n",
    "    node = elems[0]\n",
    "    left,right = elems[1][1:4], elems[1][6:9]\n",
    "    \n",
    "    node_dict[node] = (left,right)\n",
    "\n",
    "\n",
    "current_node = 'AAA'\n",
    "depth = 0\n",
    "\n",
    "while current_node != 'ZZZ' and depth < 1000000:\n",
    "    current_node,depth= find_node(instructions,current_node,depth,node_dict)\n",
    "\n",
    "depth\n"
   ]
  },
  {
   "cell_type": "code",
   "execution_count": 119,
   "metadata": {},
   "outputs": [
    {
     "name": "stdout",
     "output_type": "stream",
     "text": [
      "DVA\n",
      "JQA\n",
      "PTA\n",
      "CRA\n",
      "AAA\n",
      "BGA\n"
     ]
    },
    {
     "data": {
      "text/plain": [
       "1153765875"
      ]
     },
     "execution_count": 119,
     "metadata": {},
     "output_type": "execute_result"
    }
   ],
   "source": [
    "import numpy as np\n",
    "def find_nodes(instructions,nodes,depth,node_dict):\n",
    "    \n",
    "    all_Z = all([node[-1] == 'Z' for node in nodes])\n",
    "    if instructions == '' or all_Z:\n",
    "        return nodes,depth,all_Z\n",
    "\n",
    "    next_instruction = instructions[0]\n",
    "    directions = {'L':0,'R':1}\n",
    "    next_node_ind = directions[next_instruction]\n",
    "    for ii in range(len(nodes)):\n",
    "        nodes[ii] = node_dict[nodes[ii]][next_node_ind]\n",
    "    # print(instructions[:5],current_node,node_dict[current_node])\n",
    "    return find_nodes(instructions[1:],nodes,depth+1,node_dict)\n",
    "\n",
    "def find_node(instructions,current_node,depth,node_dict,skip_first=False):\n",
    "\n",
    "    if skip_first:\n",
    "        skip_first = False\n",
    "    elif instructions == '' or current_node[-1] == 'Z':\n",
    "        return current_node,depth\n",
    "\n",
    "    next_instruction = instructions[0]\n",
    "    directions = {'L':0,'R':1}\n",
    "    next_node_ind = directions[next_instruction]\n",
    "    next_node = node_dict[current_node][next_node_ind]\n",
    "    # print(instructions[:5],current_node,node_dict[current_node])\n",
    "    return find_node(instructions[1:],next_node,depth+1,node_dict)\n",
    "\n",
    "with open('input.txt') as file:\n",
    "    lines = file.readlines()\n",
    "\n",
    "\n",
    "instructions = lines[0].replace('\\n','')\n",
    "\n",
    "# Parse dictionary of nodes from the data\n",
    "node_dict = {}\n",
    "for line in lines[2:]:\n",
    "    line = line.replace('\\n','')\n",
    "    elems = line.split(' = ')\n",
    "    \n",
    "    node = elems[0]\n",
    "    left,right = elems[1][1:4], elems[1][6:9]\n",
    "    \n",
    "    node_dict[node] = (left,right)\n",
    "\n",
    "\n",
    "nodes = []\n",
    "for key in node_dict:\n",
    "    if key[-1] == 'A':\n",
    "        nodes.append(key)\n",
    "nodes\n",
    "depths = []\n",
    "for node in nodes:\n",
    "    print(node)\n",
    "    depth = 0\n",
    "    instructions = lines[0].replace('\\n','')\n",
    "    current_node = node\n",
    "    while current_node[-1] != 'Z' and depth < 1000000:\n",
    "        current_node,depth= find_node(instructions,current_node,depth,node_dict)\n",
    "    # depth1 = depth\n",
    "    # instructions = lines[0].replace('\\n','')\n",
    "    # current_node = node\n",
    "    # current_node,depth= find_node(instructions,current_node,depth,node_dict,skip_first=True)\n",
    "    # while current_node[-1] != 'Z' and depth < 1000000:\n",
    "    #     current_node,depth= find_node(instructions,current_node,depth,node_dict)\n",
    "    depths.append(depth)\n",
    "\n",
    "\n",
    "\n",
    "\n",
    "depths\n",
    "# too low 1153765875\n",
    "# too low 877852928\n",
    "np.lcm.reduce(depths)\n"
   ]
  },
  {
   "cell_type": "code",
   "execution_count": null,
   "metadata": {},
   "outputs": [],
   "source": [
    "  "
   ]
  },
  {
   "cell_type": "code",
   "execution_count": null,
   "metadata": {},
   "outputs": [],
   "source": []
  }
 ],
 "metadata": {
  "kernelspec": {
   "display_name": "base",
   "language": "python",
   "name": "python3"
  },
  "language_info": {
   "codemirror_mode": {
    "name": "ipython",
    "version": 3
   },
   "file_extension": ".py",
   "mimetype": "text/x-python",
   "name": "python",
   "nbconvert_exporter": "python",
   "pygments_lexer": "ipython3",
   "version": "3.11.5"
  }
 },
 "nbformat": 4,
 "nbformat_minor": 2
}
