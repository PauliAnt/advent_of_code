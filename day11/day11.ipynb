{
 "cells": [
  {
   "cell_type": "code",
   "execution_count": 146,
   "metadata": {},
   "outputs": [
    {
     "data": {
      "text/plain": [
       "9545480.0"
      ]
     },
     "execution_count": 146,
     "metadata": {},
     "output_type": "execute_result"
    }
   ],
   "source": [
    "import numpy as np\n",
    "from sklearn.metrics.pairwise import manhattan_distances\n",
    "\n",
    "with open('input.txt', 'r') as file:\n",
    "    data = [list(line.replace('.','0').replace('#','1').strip()) for line in file]\n",
    "\n",
    "character_array = np.array(data,dtype=int)\n",
    "N = character_array.shape[0]\n",
    "\n",
    "expand_rows = []\n",
    "expand_columns = []\n",
    "for n in range(N):\n",
    "    if all(character_array[n,:]==0):\n",
    "        expand_rows.append(n)\n",
    "    if all(character_array[:,n]==0):\n",
    "        expand_columns.append(n)\n",
    "\n",
    "added_rows = 0\n",
    "for added_rows,row in enumerate(expand_rows):\n",
    "    character_array = np.concatenate([character_array[:row+added_rows],np.zeros((1,N)),character_array[row+added_rows:]])\n",
    "\n",
    "N = N + added_rows + 1\n",
    "\n",
    "added_columns = 0\n",
    "for added_columns,col in enumerate(expand_columns):\n",
    "    character_array = np.column_stack([character_array[:,:col+added_columns],np.zeros((N,1)),character_array[:,col+added_columns:]])\n",
    "\n",
    "\n",
    "rows,cols = np.where(character_array==1)\n",
    "X = np.column_stack([rows,cols])\n",
    "dists = manhattan_distances(X,X)\n",
    "\n",
    "\n",
    "np.sum(np.triu(dists))"
   ]
  },
  {
   "cell_type": "code",
   "execution_count": 147,
   "metadata": {},
   "outputs": [
    {
     "data": {
      "text/plain": [
       "406725732046.0"
      ]
     },
     "execution_count": 147,
     "metadata": {},
     "output_type": "execute_result"
    }
   ],
   "source": [
    "import numpy as np\n",
    "from sklearn.metrics.pairwise import manhattan_distances\n",
    "\n",
    "with open('input.txt', 'r') as file:\n",
    "    data = [list(line.replace('.','0').replace('#','1').strip()) for line in file]\n",
    "\n",
    "character_array = np.array(data,dtype=int)\n",
    "N = character_array.shape[0]\n",
    "\n",
    "expand_rows = []\n",
    "expand_columns = []\n",
    "for n in range(N):\n",
    "    if all(character_array[n,:]==0):\n",
    "        expand_rows.append(n)\n",
    "    if all(character_array[:,n]==0):\n",
    "        expand_columns.append(n)\n",
    "\n",
    "\n",
    "\n",
    "rows,cols = np.where(character_array==1)\n",
    "X = np.column_stack([rows,cols])\n",
    "dists = manhattan_distances(X,X)\n",
    "np.sum(np.triu(dists))\n",
    "\n",
    "dists\n",
    "\n",
    "\n",
    "\n",
    "expansion_grid = np.zeros_like(dists)\n",
    "M = dists.shape[0]\n",
    "for ii in range(M):\n",
    "    for jj in range(M):\n",
    "        if ii == jj:\n",
    "            continue\n",
    "        coordinates_x = np.sort(rows[[ii,jj]])\n",
    "        coordinates_y = np.sort(cols[[ii,jj]])\n",
    "        \n",
    "        horizontal_skips = np.sum((expand_rows < coordinates_x[1]) & (expand_rows > coordinates_x[0]))\n",
    "        vertical_skips = np.sum((expand_columns < coordinates_y[1]) & (expand_columns > coordinates_y[0]))\n",
    "\n",
    "        expansion_grid[ii,jj] = horizontal_skips + vertical_skips\n",
    "\n",
    "\n",
    "dists_updated = dists + expansion_grid * (1e6-1)\n",
    "\n",
    "np.sum(np.triu(dists_updated))\n",
    "\n",
    "# dists"
   ]
  }
 ],
 "metadata": {
  "kernelspec": {
   "display_name": "base",
   "language": "python",
   "name": "python3"
  },
  "language_info": {
   "codemirror_mode": {
    "name": "ipython",
    "version": 3
   },
   "file_extension": ".py",
   "mimetype": "text/x-python",
   "name": "python",
   "nbconvert_exporter": "python",
   "pygments_lexer": "ipython3",
   "version": "3.11.5"
  }
 },
 "nbformat": 4,
 "nbformat_minor": 2
}
