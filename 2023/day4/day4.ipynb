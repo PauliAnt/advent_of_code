{
 "cells": [
  {
   "cell_type": "code",
   "execution_count": 13,
   "metadata": {},
   "outputs": [],
   "source": [
    "def parse_line(line):\n",
    "    line = line.replace('\\n','')\n",
    "    line = line.split(':')[1]\n",
    "    \n",
    "    winning_numbers = line.split('|')[0]\n",
    "    numbers = line.split('|')[1]\n",
    "\n",
    "    winning_numbers_list = [winning_numbers[ii:ii+2] for ii in range(1,len(winning_numbers),3)]\n",
    "    numbers_list = [numbers[ii:ii+2] for ii in range(1,len(numbers),3)]\n",
    "\n",
    "    return winning_numbers_list,numbers_list\n",
    "\n",
    "\n",
    "def calculate_score(winning_numbers_list,numbers_list,multiply = True):\n",
    "    score = 0\n",
    "    for number in numbers_list:\n",
    "        if number in winning_numbers_list:\n",
    "            if multiply:\n",
    "                if score == 0:\n",
    "                    score = 1\n",
    "                else:\n",
    "                    score *= 2\n",
    "            else:\n",
    "                score += 1\n",
    "    return score"
   ]
  },
  {
   "cell_type": "code",
   "execution_count": 14,
   "metadata": {},
   "outputs": [
    {
     "data": {
      "text/plain": [
       "20667"
      ]
     },
     "execution_count": 14,
     "metadata": {},
     "output_type": "execute_result"
    }
   ],
   "source": [
    "# Task 1\n",
    "with open('input.txt') as f:\n",
    "    lines = f.readlines()\n",
    "\n",
    "sum_scores = 0\n",
    "\n",
    "for line in lines:\n",
    "    \n",
    "    winning_numbers_list, numbers_list = parse_line(line)\n",
    "\n",
    "    score = calculate_score(winning_numbers_list,numbers_list)\n",
    "\n",
    "    sum_scores += score\n",
    "\n",
    "sum_scores"
   ]
  },
  {
   "cell_type": "code",
   "execution_count": 15,
   "metadata": {},
   "outputs": [
    {
     "data": {
      "text/plain": [
       "5833065"
      ]
     },
     "execution_count": 15,
     "metadata": {},
     "output_type": "execute_result"
    }
   ],
   "source": [
    "# Task 2\n",
    "with open('input.txt') as f:\n",
    "    lines = f.readlines()\n",
    "\n",
    "\n",
    "copies = [1]*len(lines)\n",
    "\n",
    "for ii,line in enumerate(lines):\n",
    "    \n",
    "    winning_numbers_list, numbers_list = parse_line(line)\n",
    "\n",
    "    score = calculate_score(winning_numbers_list,numbers_list,multiply=False)\n",
    "\n",
    "    for copy in range(copies[ii]):\n",
    "        for jj in range(1,score+1):\n",
    "            if jj >= len(lines):\n",
    "                break\n",
    "            copies[ii+jj] += 1\n",
    "    \n",
    "\n",
    "sum(copies)"
   ]
  }
 ],
 "metadata": {
  "kernelspec": {
   "display_name": "base",
   "language": "python",
   "name": "python3"
  },
  "language_info": {
   "codemirror_mode": {
    "name": "ipython",
    "version": 3
   },
   "file_extension": ".py",
   "mimetype": "text/x-python",
   "name": "python",
   "nbconvert_exporter": "python",
   "pygments_lexer": "ipython3",
   "version": "3.11.5"
  }
 },
 "nbformat": 4,
 "nbformat_minor": 2
}
